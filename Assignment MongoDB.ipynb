{
 "cells": [
  {
   "cell_type": "markdown",
   "id": "1425c83f-83b9-4856-9d45-c68c3f546e72",
   "metadata": {},
   "source": [
    "Q1. What is MongoDB? Explain non-relational databases in short. In which scenarios it is preferred to use\n",
    "MongoDB over SQL databases?"
   ]
  },
  {
   "cell_type": "markdown",
   "id": "2735544c-9e00-4cd5-b99f-35ab56c93d69",
   "metadata": {},
   "source": [
    "Ans(1)-MongoDB is a popular document-oriented NoSQL database that stores data in flexible JSON-like documents with dynamic schemas. Unlike traditional SQL databases, which store data in tables with fixed schemas, MongoDB allows for more flexible data modeling and can handle unstructured, semi-structured, and polymorphic data.\n",
    "\n",
    "Non-relational databases, also known as NoSQL databases, are databases that do not use the traditional tabular structure of SQL databases. Instead, they use a variety of data models, including key-value, document-oriented, graph, and column-family databases. Non-relational databases are often used for big data and real-time applications, as they are designed to handle large amounts of unstructured data, scale horizontally, and provide high availability and performance.\n",
    "\n",
    "MongoDB is preferred over SQL databases in scenarios where flexibility and scalability are important. Some examples include:\n",
    "\n",
    "Big data and real-time analytics:- MongoDB's dynamic schema and document-based model make it well-suited for storing and analyzing large volumes of data in real-time.\n",
    "\n",
    "Rapid application development:- MongoDB's flexible data model allows for faster development cycles and easier iteration compared to SQL databases, which have more rigid schema requirements.\n",
    "\n",
    "Cloud and microservices architectures:- MongoDB's horizontal scaling capabilities and native support for sharding make it ideal for cloud and microservices architectures, where data needs to be distributed across multiple nodes for scalability and resilience.\n",
    "\n",
    "Content management and e-commerce:- MongoDB's ability to handle unstructured data and support dynamic schema changes makes it a good fit for content management and e-commerce applications, where data models can be complex and subject to frequent changes.\n",
    "\n",
    "Overall, MongoDB is a powerful NoSQL database that provides flexibility, scalability, and performance for modern application development."
   ]
  },
  {
   "cell_type": "markdown",
   "id": "fcaa1539-f945-4c1b-880e-b3643226296e",
   "metadata": {},
   "source": [
    "---------------------------------------------------------------------------------------------------------------------------------------------------------------"
   ]
  },
  {
   "cell_type": "markdown",
   "id": "4c6be5a2-a302-4e53-bba2-b3a8d7f0f57b",
   "metadata": {},
   "source": [
    "Q2. State and Explain the features of MongoDB."
   ]
  },
  {
   "cell_type": "markdown",
   "id": "827d12e5-f5f0-4956-96a0-c3459d38dc49",
   "metadata": {},
   "source": [
    "Ans(2)-MongoDB is a popular NoSQL database that offers a wide range of features. Here are some of the key features of MongoDB:\n",
    "\n",
    "1) Document-oriented data model: MongoDB stores data in flexible JSON-like documents with dynamic schemas, which allows for easy and efficient storage of          complex data structures.\n",
    "\n",
    "2) Ad hoc queries: MongoDB supports ad hoc queries using a powerful query language that allows for complex filtering, sorting, and aggregation operations.\n",
    "\n",
    "3) Indexing: MongoDB supports a variety of indexing options, including compound indexes, geospatial indexes, and text indexes, which enable efficient querying    and sorting of large datasets.\n",
    "\n",
    "4) Automatic sharding: MongoDB can automatically distribute data across multiple servers using horizontal partitioning, which enables scalability and fault        tolerance.\n",
    "\n",
    "5) Replication: MongoDB supports automatic replication of data across multiple servers, which provides high availability and disaster recovery capabilities.\n",
    "\n",
    "6) GridFS: MongoDB includes a file storage system called GridFS, which allows for efficient storage and retrieval of large files, such as images and videos.\n",
    "\n",
    "7) Integration with popular programming languages: MongoDB provides drivers and APIs for many popular programming languages, including Java, Python, and          Node.js, which makes it easy to integrate MongoDB into modern application development workflows.\n",
    "\n",
    "8) Aggregation framework: MongoDB includes a powerful aggregation framework that allows for advanced data processing and analysis, including grouping,            filtering, and data transformations.\n",
    "\n",
    "9) Schema validation: MongoDB provides a schema validation feature that allows for the enforcement of data validation rules, ensuring that data conforms to        predefined constraints.\n",
    "\n",
    "   Overall, MongoDB is a feature-rich NoSQL database that provides flexible data modeling, powerful querying capabilities, and scalability and resilience          features for modern application development."
   ]
  },
  {
   "cell_type": "markdown",
   "id": "dbb30866-4ee3-40c8-93ab-f7428270e448",
   "metadata": {},
   "source": [
    "---------------------------------------------------------------------------------------------------------------------------------------------------------------"
   ]
  },
  {
   "cell_type": "markdown",
   "id": "6fab0a97-2ce8-47f9-b793-b4f8b3a887c5",
   "metadata": {},
   "source": [
    "Q3. Write a code to connect MongoDB to Python. Also, create a database and a collection in MongoDB.\n"
   ]
  },
  {
   "cell_type": "markdown",
   "id": "d893abd8-7db1-49ca-9cce-2738c34aeb90",
   "metadata": {},
   "source": [
    "Ans(3)-code to connect to MongoDB using Python and create a database and a collection:"
   ]
  },
  {
   "cell_type": "code",
   "execution_count": null,
   "id": "4088ce94-3046-4216-8eb7-dd7d57bbfcea",
   "metadata": {},
   "outputs": [],
   "source": [
    "import pymongo\n",
    "\n",
    "# Connect to MongoDB server\n",
    "client = pymongo.MongoClient(\"mongodb://localhost:27017/\")\n",
    "\n",
    "# Create a new database called \"mydatabase\"\n",
    "db = client[\"mydatabase\"]\n",
    "\n",
    "# Create a new collection called \"customers\"\n",
    "col = db[\"customers\"]\n",
    "\n",
    "# Insert a document into the collection\n",
    "doc = {\"name\": \"ajay\", \"address\": \"123 Main St\"}\n",
    "result = col.insert_one(doc)\n",
    "\n",
    "# Print the ID of the inserted document\n",
    "print(result.inserted_id)\n"
   ]
  },
  {
   "cell_type": "markdown",
   "id": "1fba4111-37b8-43d0-91a0-b0171caa6425",
   "metadata": {},
   "source": [
    "In this code, we first import the pymongo library and create a new client object to connect to the MongoDB server running on the local machine. We then create a new database called \"mydatabase\" using the client object and create a new collection called \"customers\" using the db object.\n",
    "\n",
    "We then insert a new document into the \"customers\" collection using the insert_one() method and print the ID of the inserted document using the inserted_id attribute of the result object.\n",
    "\n",
    "Note that you'll need to have MongoDB installed and running on your local machine for this code to work. You'll also need to install the pymongo library using pip or another package manager."
   ]
  },
  {
   "cell_type": "markdown",
   "id": "385ef364-6f57-4ce8-9b96-21460e7b3ed8",
   "metadata": {},
   "source": [
    "---------------------------------------------------------------------------------------------------------------------------------------------------------------"
   ]
  },
  {
   "cell_type": "markdown",
   "id": "8a08e660-f58c-4911-beeb-8806d426547f",
   "metadata": {},
   "source": [
    "Q4. Using the database and the collection created in question number 3, write a code to insert one record,\n",
    "and insert many records. Use the find() and find_one() methods to print the inserted record."
   ]
  },
  {
   "cell_type": "markdown",
   "id": "e13eaa7e-8e09-4ef3-81c1-39f0e7653d30",
   "metadata": {},
   "source": [
    "Ans(4)-"
   ]
  },
  {
   "cell_type": "code",
   "execution_count": null,
   "id": "6dd95e27-e61d-45e9-b21f-173bc17e4260",
   "metadata": {},
   "outputs": [],
   "source": [
    "import pymongo\n",
    "\n",
    "# Connect to MongoDB server\n",
    "client = pymongo.MongoClient(\"mongodb://localhost:27017/\")\n",
    "\n",
    "# Create a new database called \"mydatabase\"\n",
    "db = client[\"mydatabase\"]\n",
    "\n",
    "# Create a new collection called \"customers\"\n",
    "col = db[\"customers\"]\n",
    "\n",
    "# Insert one record into the collection\n",
    "doc = {\"name\": \"Alice\", \"address\": \"456 Maple Ave\"}\n",
    "result = col.insert_one(doc)\n",
    "\n",
    "# Print the inserted record using find_one()\n",
    "print(col.find_one({\"name\": \"Alice\"}))\n",
    "\n",
    "# Insert many records into the collection\n",
    "docs = [\n",
    "    {\"name\": \"Bob\", \"address\": \"789 Oak St\"},\n",
    "    {\"name\": \"Charlie\", \"address\": \"321 Elm St\"},\n",
    "    {\"name\": \"David\", \"address\": \"654 Birch Rd\"}\n",
    "]\n",
    "result = col.insert_many(docs)\n",
    "\n",
    "# Print the inserted records using find()\n",
    "for record in col.find():\n",
    "    print(record)\n"
   ]
  },
  {
   "cell_type": "markdown",
   "id": "0efe0b09-f56c-4251-a00c-ddff13bbc224",
   "metadata": {},
   "source": [
    "In this code, we first connect to the MongoDB server and create a new client, database, and collection objects as in the previous example.\n",
    "\n",
    "We then insert one record into the \"customers\" collection using the insert_one() method and print the inserted record using the find_one() method.\n",
    "\n",
    "Next, we insert multiple records into the \"customers\" collection using the insert_many() method and print all the inserted records using the find() method.\n",
    "\n",
    "Note that in the find_one() method, we pass a query object to find the inserted record with the name \"Alice\". In the find() method, we simply iterate over all the records in the collection using a for loop"
   ]
  },
  {
   "cell_type": "markdown",
   "id": "720c5e9d-e4f1-4858-9625-2eb66cf163bb",
   "metadata": {},
   "source": [
    "---------------------------------------------------------------------------------------------------------------------------------------------------------------"
   ]
  },
  {
   "cell_type": "markdown",
   "id": "898e6c58-b57b-40cb-abca-7aca77141f5e",
   "metadata": {},
   "source": [
    "Q5. Explain how you can use the find() method to query the MongoDB database. Write a simple code to\n",
    "demonstrate this."
   ]
  },
  {
   "cell_type": "markdown",
   "id": "8f2c6d9f-ad43-43f4-aca2-061a734cf15f",
   "metadata": {},
   "source": [
    "Ans(5)-The find() method in MongoDB is used to query a collection and retrieve documents that match a specified set of criteria. The find() method can accept a variety of parameters to specify the search criteria, including filters, projections, and sorting options.\n",
    "\n",
    "example code that demonstrates how to use the find() method to query the \"customers\" collection in the \"mydatabase\" database for all documents with a name field equal to \"John\":"
   ]
  },
  {
   "cell_type": "code",
   "execution_count": null,
   "id": "ec054730-5573-4eea-a068-63fcf95b7bb2",
   "metadata": {},
   "outputs": [],
   "source": [
    "import pymongo\n",
    "\n",
    "# Connect to MongoDB server\n",
    "client = pymongo.MongoClient(\"mongodb://localhost:27017/\")\n",
    "\n",
    "# Create a new database called \"mydatabase\"\n",
    "db = client[\"mydatabase\"]\n",
    "\n",
    "# Create a new collection called \"customers\"\n",
    "col = db[\"customers\"]\n",
    "\n",
    "# Find all documents with name field equal to \"John\"\n",
    "query = {\"name\": \"John\"}\n",
    "results = col.find(query)\n",
    "\n",
    "# Print the matching documents\n",
    "for doc in results:\n",
    "    print(doc)\n"
   ]
  },
  {
   "cell_type": "markdown",
   "id": "a6239165-e3df-41f7-ab5e-e273ffa8aa2f",
   "metadata": {},
   "source": [
    "In this code, we first connect to the MongoDB server and create a new client, database, and collection objects as in the previous examples.\n",
    "\n",
    "We then create a query object that specifies the search criteria as a key-value pair where the key is \"name\" and the value is \"John\". We pass this query object to the find() method, which returns a cursor object that we can use to iterate over the matching documents.\n",
    "\n",
    "Finally, we use a for loop to iterate over the cursor object and print each matching document.\n",
    "\n",
    "Note that the find() method can accept a variety of parameters to specify more complex search criteria, including filters, projections, and sorting options. You can refer to the MongoDB documentation for more information on the available options."
   ]
  },
  {
   "cell_type": "markdown",
   "id": "732cfab5-b8cc-4182-807c-96966a655545",
   "metadata": {},
   "source": [
    "---------------------------------------------------------------------------------------------------------------------------------------------------------------"
   ]
  },
  {
   "cell_type": "markdown",
   "id": "c67ddcb5-fbf3-491f-8f39-bc5d0e5cd01a",
   "metadata": {},
   "source": [
    "Q6. Explain the sort() method. Give an example to demonstrate sorting in MongoDB."
   ]
  },
  {
   "cell_type": "markdown",
   "id": "f06205d2-7f88-48b5-b6f4-b195578d1c97",
   "metadata": {},
   "source": [
    "Ans(6)-The sort() method in MongoDB is used to sort the results of a query in ascending or descending order based on one or more fields. The sort() method takes a dictionary as an argument, where the keys are the fields to sort by and the values are either 1 for ascending order or -1 for descending order.\n",
    "\n",
    "example code that demonstrates sorting the \"customers\" collection in the \"mydatabase\" database in descending order based on the \"name\" field:"
   ]
  },
  {
   "cell_type": "code",
   "execution_count": null,
   "id": "e90229f9-b9ee-436a-9e87-0ae1956f08bb",
   "metadata": {},
   "outputs": [],
   "source": [
    "import pymongo\n",
    "\n",
    "# Connect to MongoDB server\n",
    "client = pymongo.MongoClient(\"mongodb://localhost:27017/\")\n",
    "\n",
    "# Create a new database called \"mydatabase\"\n",
    "db = client[\"mydatabase\"]\n",
    "\n",
    "# Create a new collection called \"customers\"\n",
    "col = db[\"customers\"]\n",
    "\n",
    "# Find all documents in descending order based on the \"name\" field\n",
    "query = {}\n",
    "results = col.find(query).sort(\"name\", -1)\n",
    "\n",
    "# Print the sorted documents\n",
    "for doc in results:\n",
    "    print(doc)\n"
   ]
  },
  {
   "cell_type": "markdown",
   "id": "af7b2c98-4cb8-480f-8dcc-27000613c147",
   "metadata": {},
   "source": [
    "In this code, we first connect to the MongoDB server and create a new client, database, and collection objects as in the previous examples.\n",
    "\n",
    "We then create a query object that matches all documents in the \"customers\" collection by passing an empty dictionary as the query argument to the find() method. We then chain the sort() method to the find() method call to sort the results in descending order based on the \"name\" field.\n",
    "\n",
    "Finally, we use a for loop to iterate over the sorted cursor object and print each document in descending order based on the \"name\" field.\n",
    "\n",
    "Note that you can sort on multiple fields by passing a list of tuples to the sort() method where each tuple contains the field name and the sort order (1 for ascending or -1 for descending). For example, you can sort by the \"name\" field in descending order and then by the \"address\" field in ascending order by calling sort([(\"name\", -1), (\"address\", 1)])."
   ]
  },
  {
   "cell_type": "markdown",
   "id": "a8258e5b-f739-4607-86da-b8d75f89ef44",
   "metadata": {},
   "source": [
    "---------------------------------------------------------------------------------------------------------------------------------------------------------------"
   ]
  },
  {
   "cell_type": "markdown",
   "id": "4e7bd018-253f-430b-b8a5-45a0e5593d82",
   "metadata": {},
   "source": [
    "Q7. Explain why delete_one(), delete_many(), and drop() is used."
   ]
  },
  {
   "cell_type": "markdown",
   "id": "dae7bedb-9e7d-4e21-a017-6bad93897081",
   "metadata": {},
   "source": [
    "Ans(7)-In MongoDB, there are different methods available to delete data from a collection. Here are the explanations of some of the commonly used methods:\n",
    "\n",
    "delete_one(): This method is used to delete the first document that matches the specified filter. If multiple documents match the filter, only the first one is deleted. This method returns a DeleteResult object that contains information about the operation, such as the number of documents deleted.\n",
    "\n",
    "delete_many(): This method is used to delete all documents that match the specified filter. This method returns a DeleteResult object that contains information about the operation, such as the number of documents deleted.\n",
    "\n",
    "drop(): This method is used to delete an entire collection from a database. Once a collection is dropped, it cannot be recovered. This method does not take any arguments and does not return a value.\n",
    "\n",
    "These methods are useful for managing data in MongoDB because they allow you to delete data based on specific criteria. For example, you might use delete_one() to remove a single record from a collection, or delete_many() to remove a large number of records that meet a certain condition. drop() is used when you want to delete an entire collection.\n",
    "\n",
    "It is important to be careful when using these methods, as deleting data cannot be undone. Before you delete any data, make sure you have a backup of your database to avoid any loss of data."
   ]
  },
  {
   "cell_type": "markdown",
   "id": "4a3a0c5a-5862-40c4-a76b-3979f5726a0b",
   "metadata": {},
   "source": [
    "---------------------------------------------------------------------------------------------------------------------------------------------------------------"
   ]
  },
  {
   "cell_type": "code",
   "execution_count": null,
   "id": "d5e8bd78-f14c-460b-a2c0-105f892727c9",
   "metadata": {},
   "outputs": [],
   "source": []
  }
 ],
 "metadata": {
  "kernelspec": {
   "display_name": "Python 3 (ipykernel)",
   "language": "python",
   "name": "python3"
  },
  "language_info": {
   "codemirror_mode": {
    "name": "ipython",
    "version": 3
   },
   "file_extension": ".py",
   "mimetype": "text/x-python",
   "name": "python",
   "nbconvert_exporter": "python",
   "pygments_lexer": "ipython3",
   "version": "3.10.8"
  }
 },
 "nbformat": 4,
 "nbformat_minor": 5
}
